{
 "cells": [
  {
   "cell_type": "markdown",
   "metadata": {
    "id": "bPW7lnQgygRa"
   },
   "source": [
    "Run Query: Find all the tracks whose name starts with 'All'. **How many total records there are for this query?**"
   ]
  },
  {
   "cell_type": "code",
   "execution_count": null,
   "metadata": {
    "id": "z53a0pcIyifp"
   },
   "outputs": [],
   "source": [
    "select * from tracks where name like 'All%';\n",
    "select count(*) from tracks where name like 'All%';\n",
    "\n",
    "# 15 records"
   ]
  },
  {
   "cell_type": "markdown",
   "metadata": {
    "id": "58RIwz86yivs"
   },
   "source": [
    "Run Query: Find all the customer emails that start with \"J\" and are from gmail.com."
   ]
  },
  {
   "cell_type": "code",
   "execution_count": null,
   "metadata": {
    "id": "b16LHsVKzBKS"
   },
   "outputs": [],
   "source": [
    "select * from customers where lower(email) like 'j%@gmail.com';\n",
    "# oder \n",
    "select * from customers where email ilike 'j%@gmail.com';"
   ]
  },
  {
   "cell_type": "markdown",
   "metadata": {},
   "source": [
    "Run Query: Find the albums with 12 or more tracks."
   ]
  },
  {
   "cell_type": "code",
   "execution_count": null,
   "metadata": {},
   "outputs": [],
   "source": [
    "# Falls nur IDs\n",
    "\n",
    "select album_id from tracks\n",
    "    join albums a on tracks.album_id = a.id\n",
    "    group by album_id\n",
    "    having count(*) >= 12;\n",
    "\n",
    "# Falls alle Informationen des Albums\n",
    "    \n",
    "with album_ids as (select album_id\n",
    "                   from tracks\n",
    "                            join albums a on tracks.album_id = a.id\n",
    "                   group by album_id\n",
    "                   having count(*) >= 12)\n",
    "select a.*\n",
    "from albums a\n",
    "where a.id in (select album_id from album_ids);"
   ]
  },
  {
   "cell_type": "markdown",
   "metadata": {
    "id": "jDxz4RSezQir",
    "pycharm": {
     "name": "#%% md\n"
    }
   },
   "source": [
    "Create a list of album titles and the unit prices for the artist \"Audioslave\". "
   ]
  },
  {
   "cell_type": "code",
   "execution_count": null,
   "metadata": {
    "pycharm": {
     "name": "#%%\n"
    }
   },
   "outputs": [],
   "source": [
    "select a.title, t.name, t.unit_price from artists\n",
    "    join albums a on artists.id = a.artist_id\n",
    "    join tracks t on a.id = t.album_id\n",
    "    where artists.name = 'Audioslave';"
   ]
  },
  {
   "cell_type": "markdown",
   "metadata": {
    "id": "6TVnINglAGsv"
   },
   "source": [
    "Using a subquery, find the names of all the tracks for the album \"Californication\"."
   ]
  },
  {
   "cell_type": "code",
   "execution_count": null,
   "metadata": {
    "id": "dUppFfETAM9U"
   },
   "outputs": [],
   "source": [
    "# Da ein einziges Album gemeint ist, wird angenommen, dass nur eines existiert - sonst das \"=\" durch \"in\" ersetzen\n",
    "\n",
    "select name from tracks\n",
    "    where album_id = (select albums.id from albums where title = 'Californication');"
   ]
  },
  {
   "cell_type": "markdown",
   "metadata": {
    "id": "vulChgqDANLU"
   },
   "source": [
    "Find the total number of invoices for each customer along with the customer's full name, city and email."
   ]
  },
  {
   "cell_type": "code",
   "execution_count": null,
   "metadata": {
    "id": "sGRBCv0lAOsq"
   },
   "outputs": [],
   "source": [
    "select concat(c.first_name, ' ', c.last_name) as fullName,\n",
    "       c.city,\n",
    "       c.email,\n",
    "       (select count(*)\n",
    "        from invoices i2\n",
    "        where i2.customer_id = c.id)\n",
    "from customers c;"
   ]
  },
  {
   "cell_type": "markdown",
   "metadata": {
    "id": "lyJ4BHyIAO2v"
   },
   "source": [
    "After running the query described above, what is the email address of the 5th person, František Wichterlová?"
   ]
  },
  {
   "cell_type": "code",
   "execution_count": null,
   "metadata": {
    "id": "5NrjVMXtARuo"
   },
   "outputs": [],
   "source": [
    "select email from customers\n",
    "    where concat(first_name, ' ', last_name) = 'František Wichterlová';\n",
    "# frantisekw@jetbrains.com\n",
    "    \n",
    "# Oder falls mit vorherigen query verknüpft werden soll:\n",
    "select concat(c.first_name, ' ', c.last_name) as fullName,\n",
    "       c.city,\n",
    "       c.email,\n",
    "       (select count(*)\n",
    "        from invoices i2\n",
    "        where i2.customer_id = c.id)\n",
    "from customers c\n",
    "limit 1 offset 4;"
   ]
  },
  {
   "cell_type": "markdown",
   "metadata": {
    "id": "7goiyepjAR7T"
   },
   "source": [
    "Retrieve the track name, album, artistID, and trackID for all the albums."
   ]
  },
  {
   "cell_type": "code",
   "execution_count": null,
   "metadata": {
    "id": "9rPwWSkFATpd"
   },
   "outputs": [],
   "source": [
    "select t.name as track_name, albums.title as album_title, albums.artist_id, t.id as albums_id  from albums\n",
    "    join tracks t on albums.id = t.album_id;"
   ]
  },
  {
   "cell_type": "markdown",
   "metadata": {
    "id": "V0CwhMAbAVqr"
   },
   "source": [
    "What is the song title of trackID 12 from the \"For Those About to Rock We Salute You\" ?"
   ]
  },
  {
   "cell_type": "code",
   "execution_count": null,
   "metadata": {
    "id": "BYzFVF9zAYhV"
   },
   "outputs": [],
   "source": [
    "select name from tracks\n",
    "    join albums a on a.id = tracks.album_id\n",
    "    where tracks.id = 12 and a.title = 'For Those About To Rock We Salute You';\n",
    "    \n",
    "# oder mit der Annahme, dass der Song existiert und der Albumtitel stimmt\n",
    "\n",
    "select name from tracks\n",
    "    where id = 12;"
   ]
  },
  {
   "cell_type": "markdown",
   "metadata": {
    "id": "qiIaQQX1AYrq"
   },
   "source": [
    "Retrieve a list with the managers last name, and the last name of the employees who report to him or her. **Who are the reports for the manager named Mitchell?**"
   ]
  },
  {
   "cell_type": "code",
   "execution_count": null,
   "metadata": {
    "id": "AQZBCthEAftB"
   },
   "outputs": [],
   "source": [
    "select e1.last_name as manager_last_name, e2.last_name as employee_last_name\n",
    "from employees e1\n",
    "         join employees e2 on e1.id = e2.reports_to\n",
    "where e1.last_name = 'Mitchell'\n",
    "   or e2.last_name = 'Mitchell'\n",
    "order by e1.last_name;\n",
    "    \n",
    "# King and Callahan report to Mitchell\n",
    "# Mitchell reports to Adams"
   ]
  },
  {
   "cell_type": "markdown",
   "metadata": {
    "id": "6gZBptiOAh2c"
   },
   "source": [
    "Find the name and ID of the artists who do not have albums. "
   ]
  },
  {
   "cell_type": "code",
   "execution_count": null,
   "metadata": {
    "id": "IgbisBHkAkU4"
   },
   "outputs": [],
   "source": [
    "select name, artists.id from artists\n",
    "    left join albums a on artists.id = a.artist_id\n",
    "    where a.id is null;"
   ]
  },
  {
   "cell_type": "markdown",
   "metadata": {
    "id": "lpETQyAhAkgL"
   },
   "source": [
    "Use a UNION to create a list of all the employee's and customer's first names and last names ordered by the last name in descending order. **Determine what is the last name of the 6th record** Remember to order things in descending order to be sure to get the correct answer."
   ]
  },
  {
   "cell_type": "code",
   "execution_count": null,
   "metadata": {
    "id": "zLWDnZ5AArVK"
   },
   "outputs": [],
   "source": [
    "(select first_name, last_name, 'customer' as person from customers)\n",
    "union\n",
    "(select first_name, last_name, 'employee' as person from employees)\n",
    "order by last_name desc;\n",
    "\n",
    "# Mark Taylor who is a customer\n",
    "\n",
    "# oder gleich den 6. Eintrag\n",
    "\n",
    "(select first_name, last_name, 'customer' as person from customers)\n",
    "union\n",
    "(select first_name, last_name, 'employee' as person from employees)\n",
    "order by last_name desc\n",
    "limit 1 offset 5;"
   ]
  },
  {
   "cell_type": "markdown",
   "metadata": {
    "id": "E-HmEIsZArpl"
   },
   "source": [
    "See if there are any customers who have a different city listed in their billing city versus their customer city."
   ]
  },
  {
   "cell_type": "code",
   "execution_count": null,
   "metadata": {
    "id": "Bi4tcpV-AuJM"
   },
   "outputs": [],
   "source": [
    "select first_name, last_name, city, billing_city from customers\n",
    "join invoices i on customers.id = i.customer_id\n",
    "where city <> i.billing_city;\n",
    "\n",
    "# Keine Einträge"
   ]
  }
 ],
 "metadata": {
  "colab": {
   "collapsed_sections": [],
   "name": "Assignment-5.ipynb",
   "provenance": []
  },
  "kernelspec": {
   "display_name": "Python 3 (ipykernel)",
   "language": "python",
   "name": "python3"
  },
  "language_info": {
   "codemirror_mode": {
    "name": "ipython",
    "version": 3
   },
   "file_extension": ".py",
   "mimetype": "text/x-python",
   "name": "python",
   "nbconvert_exporter": "python",
   "pygments_lexer": "ipython3",
   "version": "3.9.12"
  }
 },
 "nbformat": 4,
 "nbformat_minor": 4
}
